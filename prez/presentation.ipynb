{
 "cells": [
  {
   "cell_type": "markdown",
   "id": "1cd4d128-0f39-4d9b-baad-3ca2caaf07f8",
   "metadata": {
    "jupyter": {
     "source_hidden": true
    },
    "slideshow": {
     "slide_type": "slide"
    },
    "tags": []
   },
   "source": [
    "# Intro to Docker\n",
    "\n",
    "<!-- ![left, original, 118%](img/whale.png) -->\n",
    "<img src=\"img/whale.png\" style=\"width: 118%; height: 118%\" alt=\"\">\n",
    "\n",
    "<!-- ![right, original, 145%](img/avocado.png) -->\n",
    "<img src=\"img/avocado.png\" style=\"width: 80%; height: 80%\" alt=\"\">"
   ]
  },
  {
   "cell_type": "markdown",
   "id": "93f9ac56-5999-4be1-9615-6c9dd4b800c0",
   "metadata": {
    "slideshow": {
     "slide_type": "slide"
    },
    "tags": []
   },
   "source": [
    "## Intro\n",
    "\n",
    "**Lance Stephens**\n",
    "\n",
    "Been in the game for over a decade. Was a DevOps engineer at Greenhouse Software until May 2023 (3.5 years). \n",
    "\n",
    "Now [#opentowork](https://www.linkedin.com/in/lancestephens/)!\n",
    "\n",
    "Extracurriculars include community organizing with [Pythonistas](https://www.meetup.com/pythonistas/) (founder) and [Coffee & Code](https://www.meetup.com/okccoffeeandcode/), volunteering with [ReMerge](https://www.remergeok.org/), going to concerts, and travel.\n",
    "\n",
    "<!-- ![right, 195%](img/me.jpg) -->\n",
    "<img src=\"img/me.jpg\" style=\"width: 100%; height: 100%\" alt=\"\">"
   ]
  },
  {
   "cell_type": "markdown",
   "id": "1a68a553",
   "metadata": {
    "tags": []
   },
   "source": [
    "## Topics\n",
    "\n",
    "**Covered**\n",
    "\n",
    "* Brief explanation and history\n",
    "* Setup environment\n",
    "* Dockerfile\n",
    "* Docker Compose\n",
    "* Upload to Docker Hub registry\n",
    "* Continuous Integration\n",
    "\n",
    "<!-- ![](img/whale.png) -->\n",
    "<img src=\"img/whale.png\" style=\"width: 118%; height: 118%\" alt=\"\">"
   ]
  }
 ],
 "metadata": {
  "kernelspec": {
   "display_name": "Python 3 (ipykernel)",
   "language": "python",
   "name": "python3"
  },
  "language_info": {
   "codemirror_mode": {
    "name": "ipython",
    "version": 3
   },
   "file_extension": ".py",
   "mimetype": "text/x-python",
   "name": "python",
   "nbconvert_exporter": "python",
   "pygments_lexer": "ipython3",
   "version": "3.10.11"
  }
 },
 "nbformat": 4,
 "nbformat_minor": 5
}
